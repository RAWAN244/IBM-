{
  "nbformat": 4,
  "nbformat_minor": 0,
  "metadata": {
    "colab": {
      "provenance": [],
      "authorship_tag": "ABX9TyNyaa5RAZq9ZV63z5noYqCR",
      "include_colab_link": true
    },
    "kernelspec": {
      "name": "python3",
      "display_name": "Python 3"
    },
    "language_info": {
      "name": "python"
    }
  },
  "cells": [
    {
      "cell_type": "markdown",
      "metadata": {
        "id": "view-in-github",
        "colab_type": "text"
      },
      "source": [
        "<a href=\"https://colab.research.google.com/github/RAWAN244/IBM-/blob/main/IBM.ipynb\" target=\"_parent\"><img src=\"https://colab.research.google.com/assets/colab-badge.svg\" alt=\"Open In Colab\"/></a>"
      ]
    },
    {
      "cell_type": "markdown",
      "source": [
        "# Final Project Notebook\n",
        "\n",
        "## Introduction\n",
        "This notebook contains exercises and examples for IBM Data Science Professional Certificate\n",
        "\n",
        "\n"
      ],
      "metadata": {
        "id": "4k1FggVz_Qsr"
      }
    },
    {
      "cell_type": "markdown",
      "source": [
        "## Data Science Languages\n",
        "- Python\n",
        "- R\n",
        "- SQL\n",
        "- Julia\n",
        "- Java\n"
      ],
      "metadata": {
        "id": "D3nsVrIH_3OB"
      }
    },
    {
      "cell_type": "markdown",
      "source": [
        "## Data Science Libraries\n",
        "\n",
        "### Python Libraries\n",
        "- NumPy\n",
        "- Pandas\n",
        "- Matplotlib\n",
        "- Scikit-learn\n",
        "- TensorFlow\n",
        "\n",
        "### R Libraries\n",
        "- ggplot2\n",
        "- dplyr\n",
        "- tidyr\n",
        "- caret\n",
        "- shiny\n"
      ],
      "metadata": {
        "id": "bit4D1_BAOdJ"
      }
    },
    {
      "cell_type": "markdown",
      "source": [
        "## Data Science Tools\n",
        "| Tool           | Description                         |\n",
        "|----------------|-------------------------------------|\n",
        "| Jupyter Notebook | An open-source tool for interactive computing |\n",
        "| RStudio        | Integrated development environment for R |\n",
        "| Apache Spark   | Distributed computing system for big data |\n"
      ],
      "metadata": {
        "id": "fGqYPUASABfZ"
      }
    },
    {
      "cell_type": "markdown",
      "source": [
        "## Arithmetic Expression Examples\n",
        "Below are examples of simple arithmetic expressions.\n"
      ],
      "metadata": {
        "id": "RWWw2xUAAcJl"
      }
    },
    {
      "cell_type": "code",
      "execution_count": 1,
      "metadata": {
        "colab": {
          "base_uri": "https://localhost:8080/"
        },
        "id": "m1jBtpje-9iN",
        "outputId": "b9a92a0a-91d6-4322-f3f8-4220ba6b7abc"
      },
      "outputs": [
        {
          "output_type": "execute_result",
          "data": {
            "text/plain": [
              "17"
            ]
          },
          "metadata": {},
          "execution_count": 1
        }
      ],
      "source": [
        "# Example: Multiply 3 by 4 and add 5\n",
        "result = (3 * 4) + 5\n",
        "result\n"
      ]
    },
    {
      "cell_type": "code",
      "source": [
        "# Example: Convert 150 minutes to hours\n",
        "minutes = 150\n",
        "hours = minutes / 60\n",
        "hours\n"
      ],
      "metadata": {
        "colab": {
          "base_uri": "https://localhost:8080/"
        },
        "id": "zld8Da0xAkx6",
        "outputId": "9d24b66c-72f3-43db-d593-7d4a89cbd07d"
      },
      "execution_count": 2,
      "outputs": [
        {
          "output_type": "execute_result",
          "data": {
            "text/plain": [
              "2.5"
            ]
          },
          "metadata": {},
          "execution_count": 2
        }
      ]
    },
    {
      "cell_type": "markdown",
      "source": [
        "## Objectives\n",
        "- Learn how to use Markdown cells\n",
        "- Understand basic arithmetic operations in Python\n",
        "- Convert time units using Python code\n"
      ],
      "metadata": {
        "id": "jr2ULcvO_PIf"
      }
    },
    {
      "cell_type": "markdown",
      "source": [
        "## Author\n",
        "**Rawan**\n"
      ],
      "metadata": {
        "id": "wSnvgu9lAuAW"
      }
    }
  ]
}